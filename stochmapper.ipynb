{
 "cells": [
  {
   "cell_type": "code",
   "execution_count": null,
   "metadata": {},
   "outputs": [],
   "source": [
    "import numpy as np\n",
    "import matplotlib.pyplot as plt\n",
    "import sklearn_tda as sktda\n",
    "import statmapper as stm\n",
    "import networkx as nx\n",
    "\n",
    "from sklearn.cluster import AgglomerativeClustering\n",
    "from mpl_toolkits.mplot3d import Axes3D\n",
    "from stochmapper import EntropyRegularizedWasserstein, AgglomerativeCover, VoronoiCover, StochasticMapperComplex"
   ]
  },
  {
   "cell_type": "markdown",
   "metadata": {
    "heading_collapsed": true
   },
   "source": [
    "# Annulus"
   ]
  },
  {
   "cell_type": "markdown",
   "metadata": {
    "heading_collapsed": true,
    "hidden": true
   },
   "source": [
    "## Dataset"
   ]
  },
  {
   "cell_type": "markdown",
   "metadata": {
    "hidden": true
   },
   "source": [
    "Generate annulus."
   ]
  },
  {
   "cell_type": "code",
   "execution_count": null,
   "metadata": {
    "hidden": true
   },
   "outputs": [],
   "source": [
    "num_pts = 1000\n",
    "radius  = 1."
   ]
  },
  {
   "cell_type": "code",
   "execution_count": null,
   "metadata": {
    "hidden": true
   },
   "outputs": [],
   "source": [
    "theta   = np.random.uniform(low=0., high=2*np.pi, size=num_pts)\n",
    "xs, ys  = radius * np.cos(theta), radius * np.sin(theta)\n",
    "noise_x = np.random.normal(loc=xs, scale=.1, size=num_pts)\n",
    "noise_y = np.random.normal(loc=ys, scale=.1, size=num_pts)\n",
    "X       = np.hstack([np.reshape(xs+noise_x, [-1,1]), np.reshape(ys+noise_y, [-1,1])])"
   ]
  },
  {
   "cell_type": "markdown",
   "metadata": {
    "hidden": true
   },
   "source": [
    "Visualize smooth annulus."
   ]
  },
  {
   "cell_type": "code",
   "execution_count": null,
   "metadata": {
    "hidden": true
   },
   "outputs": [],
   "source": [
    "plt.scatter(X[:,0], X[:,1])\n",
    "plt.show()"
   ]
  },
  {
   "cell_type": "markdown",
   "metadata": {
    "hidden": true
   },
   "source": [
    "Now, assign a probability distribution for each point."
   ]
  },
  {
   "cell_type": "code",
   "execution_count": null,
   "metadata": {
    "hidden": true
   },
   "outputs": [],
   "source": [
    "distributions = []\n",
    "for i in range(num_pts):\n",
    "    # Gaussian\n",
    "    distributions.append(np.random.normal(loc=X[i,0], scale=50, size=100))\n",
    "    # Bimodal\n",
    "    distributions.append(np.random.normal(loc=X[i,0], scale=50, size=100))"
   ]
  },
  {
   "cell_type": "code",
   "execution_count": null,
   "metadata": {
    "hidden": true
   },
   "outputs": [],
   "source": [
    "erw = EntropyRegularizedWasserstein(epsilon=1e-1)\n",
    "wass = np.zeros([num_pts, num_pts])\n",
    "for i in range(num_pts):\n",
    "    for j in range(i+1, num_pts):\n",
    "        wass[i,j] = erw.compute_distance(distributions[i], distributions[j])\n",
    "        wass[j,i] = wass[i,j]"
   ]
  },
  {
   "cell_type": "markdown",
   "metadata": {
    "hidden": true
   },
   "source": [
    "Visualize a given realization."
   ]
  },
  {
   "cell_type": "code",
   "execution_count": null,
   "metadata": {
    "hidden": true
   },
   "outputs": [],
   "source": [
    "z = np.array([distributions[i][0] for i in range(num_pts)])"
   ]
  },
  {
   "cell_type": "code",
   "execution_count": null,
   "metadata": {
    "hidden": true
   },
   "outputs": [],
   "source": [
    "%matplotlib notebook\n",
    "fig = plt.figure()\n",
    "ax  = fig.add_subplot(111, projection=\"3d\")\n",
    "ax.scatter(X[:,0],X[:,1],z, s=1.)\n",
    "plt.show()"
   ]
  },
  {
   "cell_type": "markdown",
   "metadata": {
    "heading_collapsed": true
   },
   "source": [
    "# Torus"
   ]
  },
  {
   "cell_type": "markdown",
   "metadata": {
    "heading_collapsed": true,
    "hidden": true
   },
   "source": [
    "## Dataset"
   ]
  },
  {
   "cell_type": "code",
   "execution_count": null,
   "metadata": {
    "hidden": true
   },
   "outputs": [],
   "source": [
    "num_pts = 20 * 20"
   ]
  },
  {
   "cell_type": "markdown",
   "metadata": {
    "hidden": true
   },
   "source": [
    "Generate torus."
   ]
  },
  {
   "cell_type": "code",
   "execution_count": null,
   "metadata": {
    "hidden": true
   },
   "outputs": [],
   "source": [
    "c, a = 2, 1"
   ]
  },
  {
   "cell_type": "code",
   "execution_count": null,
   "metadata": {
    "hidden": true
   },
   "outputs": [],
   "source": [
    "theta = np.linspace(0, 2.*np.pi, int(np.sqrt(num_pts)))\n",
    "phi = np.linspace(0, 2.*np.pi, int(np.sqrt(num_pts)))\n",
    "theta, phi = np.meshgrid(theta, phi)\n",
    "x = ((c + a*np.cos(theta)) * np.cos(phi)).flatten()\n",
    "y = (a * np.sin(theta)).flatten()\n",
    "z = ((c + a*np.cos(theta)) * np.sin(phi)).flatten()"
   ]
  },
  {
   "cell_type": "markdown",
   "metadata": {
    "hidden": true
   },
   "source": [
    "Visualize smooth torus."
   ]
  },
  {
   "cell_type": "code",
   "execution_count": null,
   "metadata": {
    "hidden": true
   },
   "outputs": [],
   "source": [
    "%matplotlib notebook\n",
    "fig = plt.figure()\n",
    "ax  = fig.add_subplot(111, projection=\"3d\")\n",
    "ax.scatter(x,y,z, s=1.)\n",
    "plt.show()"
   ]
  },
  {
   "cell_type": "markdown",
   "metadata": {
    "hidden": true
   },
   "source": [
    "Now, assign a probability distribution for each point."
   ]
  },
  {
   "cell_type": "code",
   "execution_count": null,
   "metadata": {
    "hidden": true
   },
   "outputs": [],
   "source": [
    "distributions = []\n",
    "for i in range(num_pts):\n",
    "    distributions.append(np.random.normal(loc=z[i], scale=.5, size=100))"
   ]
  },
  {
   "cell_type": "code",
   "execution_count": null,
   "metadata": {
    "hidden": true
   },
   "outputs": [],
   "source": [
    "erw = EntropyRegularizedWasserstein(epsilon=1e-1)\n",
    "wass = np.zeros([num_pts, num_pts])\n",
    "for i in range(num_pts):\n",
    "    for j in range(i+1, num_pts):\n",
    "        wass[i,j] = erw.compute_distance(distributions[i], distributions[j])\n",
    "        wass[j,i] = wass[i,j]"
   ]
  },
  {
   "cell_type": "markdown",
   "metadata": {
    "hidden": true
   },
   "source": [
    "Visualize a given realization."
   ]
  },
  {
   "cell_type": "code",
   "execution_count": null,
   "metadata": {
    "hidden": true
   },
   "outputs": [],
   "source": [
    "z_pert = np.array([distributions[i][0] for i in range(num_pts)])"
   ]
  },
  {
   "cell_type": "code",
   "execution_count": null,
   "metadata": {
    "hidden": true
   },
   "outputs": [],
   "source": [
    "%matplotlib notebook\n",
    "fig = plt.figure()\n",
    "ax  = fig.add_subplot(111, projection=\"3d\")\n",
    "ax.scatter(x,y,z_pert, s=1.)\n",
    "plt.show()"
   ]
  },
  {
   "cell_type": "markdown",
   "metadata": {
    "heading_collapsed": true,
    "hidden": true
   },
   "source": [
    "## Underlying Mapper"
   ]
  },
  {
   "cell_type": "code",
   "execution_count": null,
   "metadata": {
    "hidden": true
   },
   "outputs": [],
   "source": [
    "mapper = sktda.MapperComplex(\n",
    "    filters=np.reshape(z, [-1,1]), filter_bnds=np.array([[np.nan, np.nan]]),\n",
    "    resolutions=np.array([5]),    gains=np.array([.3]),\n",
    "    colors=np.reshape(z, [-1,1]),\n",
    "    clustering=AgglomerativeClustering(n_clusters=None, linkage=\"single\", distance_threshold=1.)\n",
    "                            ).fit(np.stack([x,y,z], axis=-1))"
   ]
  },
  {
   "cell_type": "code",
   "execution_count": null,
   "metadata": {
    "hidden": true
   },
   "outputs": [],
   "source": [
    "G = stm.mapper2networkx(mapper)\n",
    "nx.draw_networkx(G, with_labels=False,\n",
    "                 node_color=[mapper.node_info_[name][\"colors\"][0] for name in G.nodes()],\n",
    "                 node_size=[len(mapper.node_info_[name][\"indices\"]) for name in G.nodes()])"
   ]
  },
  {
   "cell_type": "markdown",
   "metadata": {
    "heading_collapsed": true,
    "hidden": true
   },
   "source": [
    "## Single realization Mapper"
   ]
  },
  {
   "cell_type": "code",
   "execution_count": null,
   "metadata": {
    "hidden": true
   },
   "outputs": [],
   "source": [
    "mapper = sktda.MapperComplex(\n",
    "    filters=np.reshape(z_pert, [-1,1]), filter_bnds=np.array([[np.nan, np.nan]]),\n",
    "    resolutions=np.array([5]), gains=np.array([.3]),\n",
    "    colors=np.reshape(z, [-1,1]),\n",
    "    clustering=AgglomerativeClustering(n_clusters=None, linkage=\"single\", distance_threshold=1.)\n",
    "                            ).fit(np.stack([x,y,z], axis=-1))"
   ]
  },
  {
   "cell_type": "code",
   "execution_count": null,
   "metadata": {
    "hidden": true
   },
   "outputs": [],
   "source": [
    "G = stm.mapper2networkx(mapper)\n",
    "nx.draw_networkx(G, with_labels=False,\n",
    "                 node_color=[mapper.node_info_[name][\"colors\"][0] for name in G.nodes()],\n",
    "                 node_size=[len(mapper.node_info_[name][\"indices\"]) for name in G.nodes()])"
   ]
  },
  {
   "cell_type": "markdown",
   "metadata": {
    "heading_collapsed": true,
    "hidden": true
   },
   "source": [
    "## Mean stochastic Mapper"
   ]
  },
  {
   "cell_type": "markdown",
   "metadata": {
    "heading_collapsed": true,
    "hidden": true
   },
   "source": [
    "## Exact stochastic Mapper. "
   ]
  },
  {
   "cell_type": "code",
   "execution_count": null,
   "metadata": {
    "hidden": true
   },
   "outputs": [],
   "source": [
    "mapper = StochasticMapperComplex(\n",
    "    distributions=distributions, distance=wass, #EntropyRegularizedWasserstein(epsilon=1e-1),\n",
    "    cover=VoronoiCover(n_patches=10, threshold=.1475),\n",
    "    colors=np.reshape(z, [-1,1]),\n",
    "    clustering=AgglomerativeClustering(n_clusters=None, linkage=\"single\", distance_threshold=1.)\n",
    "                            ).fit(np.stack([x,y,z], axis=-1))"
   ]
  },
  {
   "cell_type": "code",
   "execution_count": null,
   "metadata": {
    "hidden": true
   },
   "outputs": [],
   "source": [
    "G = stm.mapper2networkx(mapper)\n",
    "nx.draw_networkx(G, with_labels=False,\n",
    "                 node_color=[mapper.node_info_[name][\"colors\"][0] for name in G.nodes()],\n",
    "                 node_size=[len(mapper.node_info_[name][\"indices\"]) for name in G.nodes()])"
   ]
  },
  {
   "cell_type": "code",
   "execution_count": null,
   "metadata": {
    "hidden": true
   },
   "outputs": [],
   "source": []
  }
 ],
 "metadata": {
  "kernelspec": {
   "display_name": "Python 3",
   "language": "python",
   "name": "python3"
  },
  "language_info": {
   "codemirror_mode": {
    "name": "ipython",
    "version": 3
   },
   "file_extension": ".py",
   "mimetype": "text/x-python",
   "name": "python",
   "nbconvert_exporter": "python",
   "pygments_lexer": "ipython3",
   "version": "3.6.9"
  },
  "toc": {
   "base_numbering": 1,
   "nav_menu": {},
   "number_sections": true,
   "sideBar": true,
   "skip_h1_title": false,
   "title_cell": "Table of Contents",
   "title_sidebar": "Contents",
   "toc_cell": false,
   "toc_position": {},
   "toc_section_display": true,
   "toc_window_display": false
  }
 },
 "nbformat": 4,
 "nbformat_minor": 2
}
