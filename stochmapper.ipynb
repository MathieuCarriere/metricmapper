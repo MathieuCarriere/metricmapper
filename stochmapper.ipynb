{
 "cells": [
  {
   "cell_type": "code",
   "execution_count": null,
   "metadata": {},
   "outputs": [],
   "source": [
    "import numpy as np\n",
    "import matplotlib.pyplot as plt\n",
    "import sklearn_tda as sktda\n",
    "import statmapper as stm\n",
    "import networkx as nx\n",
    "\n",
    "from sklearn.metrics import pairwise_distances\n",
    "from mpl_toolkits.mplot3d import Axes3D\n",
    "from stochmapper import *"
   ]
  },
  {
   "cell_type": "markdown",
   "metadata": {},
   "source": [
    "# Annulus"
   ]
  },
  {
   "cell_type": "markdown",
   "metadata": {},
   "source": [
    "## Dataset"
   ]
  },
  {
   "cell_type": "markdown",
   "metadata": {},
   "source": [
    "### Underlying manifold"
   ]
  },
  {
   "cell_type": "code",
   "execution_count": null,
   "metadata": {},
   "outputs": [],
   "source": [
    "num_pts = 5000\n",
    "radius  = 1."
   ]
  },
  {
   "cell_type": "code",
   "execution_count": null,
   "metadata": {},
   "outputs": [],
   "source": [
    "theta   = np.random.uniform(low=0., high=2*np.pi, size=num_pts)\n",
    "xs, ys  = radius * np.cos(theta), radius * np.sin(theta)\n",
    "noise_x = np.random.normal(loc=xs, scale=.1, size=num_pts)\n",
    "noise_y = np.random.normal(loc=ys, scale=.1, size=num_pts)\n",
    "X       = np.hstack([np.reshape(xs+noise_x, [-1,1]), np.reshape(ys+noise_y, [-1,1])])"
   ]
  },
  {
   "cell_type": "code",
   "execution_count": null,
   "metadata": {},
   "outputs": [],
   "source": [
    "%matplotlib notebook\n",
    "plt.scatter(X[:,0], X[:,1], s=3)\n",
    "plt.show()"
   ]
  },
  {
   "cell_type": "code",
   "execution_count": null,
   "metadata": {},
   "outputs": [],
   "source": [
    "delta = sktda.estimate_scale(X, 100)\n",
    "print(delta)"
   ]
  },
  {
   "cell_type": "markdown",
   "metadata": {},
   "source": [
    "### Probability distributions"
   ]
  },
  {
   "cell_type": "markdown",
   "metadata": {
    "heading_collapsed": true
   },
   "source": [
    "#### Ideal case"
   ]
  },
  {
   "cell_type": "code",
   "execution_count": null,
   "metadata": {
    "hidden": true
   },
   "outputs": [],
   "source": [
    "distributions = []"
   ]
  },
  {
   "cell_type": "code",
   "execution_count": null,
   "metadata": {
    "hidden": true
   },
   "outputs": [],
   "source": [
    "num_samples = 1000"
   ]
  },
  {
   "cell_type": "markdown",
   "metadata": {
    "hidden": true
   },
   "source": [
    "Gaussian distribution."
   ]
  },
  {
   "cell_type": "code",
   "execution_count": null,
   "metadata": {
    "hidden": true
   },
   "outputs": [],
   "source": [
    "for i in range(num_pts):\n",
    "    distributions.append(np.random.normal(loc=X[i,0], scale=10, size=num_samples))"
   ]
  },
  {
   "cell_type": "markdown",
   "metadata": {
    "hidden": true
   },
   "source": [
    "Bimodal distribution."
   ]
  },
  {
   "cell_type": "code",
   "execution_count": null,
   "metadata": {
    "hidden": true
   },
   "outputs": [],
   "source": [
    "num_pts=0\n",
    "for i in range(num_pts,num_pts+1):\n",
    "    distrib = []\n",
    "    for s in range(num_samples):\n",
    "        idx = np.random.choice(2, 1)\n",
    "        if idx == 0:\n",
    "            distrib.append(np.random.normal(loc=X[i,0], scale=20, size=1))\n",
    "        else:\n",
    "            distrib.append(np.random.normal(loc=-X[i,0], scale=20, size=1))\n",
    "    distributions.append(distrib)"
   ]
  },
  {
   "cell_type": "markdown",
   "metadata": {},
   "source": [
    "#### Filter values of nearest neighbors"
   ]
  },
  {
   "cell_type": "code",
   "execution_count": null,
   "metadata": {},
   "outputs": [],
   "source": [
    "real = []\n",
    "for i in range(num_pts):\n",
    "    real.append(np.random.normal(loc=X[i,0], scale=10, size=1)[0])"
   ]
  },
  {
   "cell_type": "code",
   "execution_count": null,
   "metadata": {},
   "outputs": [],
   "source": [
    "real = []\n",
    "for i in range(num_pts):\n",
    "    real.append(np.random.normal(loc=0, scale=X[i,0]-np.min(X[i,:]), size=1)[0])"
   ]
  },
  {
   "cell_type": "code",
   "execution_count": null,
   "metadata": {},
   "outputs": [],
   "source": [
    "real = []\n",
    "for i in range(num_pts):\n",
    "    idx = np.random.choice(2, 1)\n",
    "    if idx == 0:\n",
    "        real.append(np.random.normal(loc=X[i,0], scale=10, size=1)[0])\n",
    "    else:\n",
    "        real.append(np.random.normal(loc=-X[i,0], scale=10, size=1)[0])"
   ]
  },
  {
   "cell_type": "code",
   "execution_count": null,
   "metadata": {},
   "outputs": [],
   "source": [
    "distributions = infer_distributions_from_neighborhood(real, X, 3*delta, \"point cloud\")"
   ]
  },
  {
   "cell_type": "markdown",
   "metadata": {},
   "source": [
    "#### Distances between distributions"
   ]
  },
  {
   "cell_type": "code",
   "execution_count": null,
   "metadata": {},
   "outputs": [],
   "source": [
    "m, M = np.min([np.min(d) for d in distributions]), np.max([np.max(d) for d in distributions])\n",
    "print(m,M)"
   ]
  },
  {
   "cell_type": "code",
   "execution_count": null,
   "metadata": {},
   "outputs": [],
   "source": [
    "eud = EuclideanDistance(num_bins=100, bnds=(m, M))\n",
    "dists = eud.compute_matrix(distributions)"
   ]
  },
  {
   "cell_type": "code",
   "execution_count": null,
   "metadata": {},
   "outputs": [],
   "source": [
    "erw = EntropyRegularizedWasserstein(epsilon=1e-3, num_bins=100, bnds=(-10, 10))\n",
    "dists = erw.compute_matrix(distributions)"
   ]
  },
  {
   "cell_type": "code",
   "execution_count": null,
   "metadata": {},
   "outputs": [],
   "source": [
    "w1d = Wasserstein1D(p=1, num_bins=100, bnds=(m, M))\n",
    "dists = w1d.compute_matrix(distributions)"
   ]
  },
  {
   "cell_type": "code",
   "execution_count": null,
   "metadata": {},
   "outputs": [],
   "source": [
    "kld = KullbackLeiblerDivergence(num_bins=1000, bnds=(m, M))\n",
    "dists = kld.compute_matrix(distributions)"
   ]
  },
  {
   "cell_type": "markdown",
   "metadata": {},
   "source": [
    "#### Estimate Lipschitz coefficient"
   ]
  },
  {
   "cell_type": "code",
   "execution_count": null,
   "metadata": {},
   "outputs": [],
   "source": [
    "D = euclidean_distances(X)\n",
    "coeff = 0\n",
    "for i in range(num_pts):\n",
    "    for j in range(i+1, num_pts):\n",
    "        if D[i,j] <= delta and D[i,j] > 0:\n",
    "            coeff = max(coeff, dists[i,j]/D[i,j])\n",
    "print(coeff)"
   ]
  },
  {
   "cell_type": "markdown",
   "metadata": {
    "heading_collapsed": true
   },
   "source": [
    "### Visualization"
   ]
  },
  {
   "cell_type": "code",
   "execution_count": null,
   "metadata": {
    "hidden": true
   },
   "outputs": [],
   "source": [
    "plt.figure()\n",
    "plt.hist(np.array(distributions[0]), bins=100)\n",
    "plt.show()"
   ]
  },
  {
   "cell_type": "markdown",
   "metadata": {
    "hidden": true
   },
   "source": [
    "Visualize a given realization."
   ]
  },
  {
   "cell_type": "code",
   "execution_count": null,
   "metadata": {
    "hidden": true
   },
   "outputs": [],
   "source": [
    "z = [distributions[i][0] for i in range(num_pts)]"
   ]
  },
  {
   "cell_type": "code",
   "execution_count": null,
   "metadata": {
    "hidden": true
   },
   "outputs": [],
   "source": [
    "z = [np.mean(distrib) for distrib in distributions]"
   ]
  },
  {
   "cell_type": "code",
   "execution_count": null,
   "metadata": {
    "hidden": true
   },
   "outputs": [],
   "source": [
    "%matplotlib notebook\n",
    "fig = plt.figure()\n",
    "ax  = fig.add_subplot(111, projection=\"3d\")\n",
    "ax.scatter(X[:,0], X[:,1], z, s=1.)\n",
    "plt.show()"
   ]
  },
  {
   "cell_type": "markdown",
   "metadata": {},
   "source": [
    "## Single realization Mapper"
   ]
  },
  {
   "cell_type": "code",
   "execution_count": null,
   "metadata": {},
   "outputs": [],
   "source": [
    "mapper = sktda.MapperComplex(\n",
    "    filters=np.reshape(np.array(real), [-1,1]), \n",
    "    filter_bnds=np.array([[np.nan, np.nan]]),\n",
    "    resolutions=np.array([5]), gains=np.array([.3]), colors=X[:,0:1],\n",
    "    clustering=AgglomerativeClustering(n_clusters=None, linkage=\"single\", distance_threshold=1.)\n",
    "                            ).fit(X)"
   ]
  },
  {
   "cell_type": "code",
   "execution_count": null,
   "metadata": {},
   "outputs": [],
   "source": [
    "G = stm.mapper2networkx(mapper)\n",
    "nx.draw_networkx(G, with_labels=False,\n",
    "                 node_color=[mapper.node_info_[name][\"colors\"][0] for name in G.nodes()])\n",
    "                 #node_size=[len(mapper.node_info_[name][\"indices\"]) for name in G.nodes()])"
   ]
  },
  {
   "cell_type": "markdown",
   "metadata": {},
   "source": [
    "## Mean stochastic Mapper "
   ]
  },
  {
   "cell_type": "code",
   "execution_count": null,
   "metadata": {},
   "outputs": [],
   "source": [
    "mapper = MeanStochasticMapperComplex(\n",
    "    filters=distributions, infer_distributions=False, threshold=1.,\n",
    "    resolution=7, gain=.3, colors=X[:,0:1],\n",
    "    clustering=AgglomerativeClustering(n_clusters=None, linkage=\"single\", distance_threshold=delta)\n",
    "                            ).fit(X)"
   ]
  },
  {
   "cell_type": "code",
   "execution_count": null,
   "metadata": {},
   "outputs": [],
   "source": [
    "G = stm.mapper2networkx(mapper)\n",
    "nx.draw_networkx(G, with_labels=False,\n",
    "                 node_color=[mapper.node_info_[name][\"colors\"][0] for name in G.nodes()])\n",
    "                 #node_size=[len(mapper.node_info_[name][\"indices\"]) for name in G.nodes()])"
   ]
  },
  {
   "cell_type": "markdown",
   "metadata": {},
   "source": [
    "## Exact stochastic Mapper"
   ]
  },
  {
   "cell_type": "code",
   "execution_count": null,
   "metadata": {},
   "outputs": [],
   "source": [
    "print(np.median(dists))"
   ]
  },
  {
   "cell_type": "code",
   "execution_count": null,
   "metadata": {},
   "outputs": [],
   "source": [
    "mapper = StochasticMapperComplex(\n",
    "    filters=distributions,\n",
    "    codomain=\"distributions\", infer_distributions=False, #threshold=1.,\n",
    "    #cover=VoronoiCover(n_patches=10, threshold=delta/3), \n",
    "    #distance=EuclideanDistance(num_bins=100, bnds=(m,M)), #distance=Wasserstein1D(num_bins=100, bnds=(m,M), p=1),\n",
    "    cover=kPDTMCover(n_patches=10, h=3, threshold=delta/10, tol=1e-8, num_bins=100, bnds=(m,M)),\n",
    "    #cover=EuclideanKMeansCover(n_patches=10, threshold=delta/10, num_bins=100, bnds=(m,M)),\n",
    "    #cover=WassersteinKMeansCover(n_patches=10, threshold=.01, num_bins=100, bnds=(m,M)),\n",
    "    colors=np.reshape(X[:,0], [-1,1]),\n",
    "    clustering=AgglomerativeClustering(n_clusters=None, linkage=\"single\", distance_threshold=delta)\n",
    "                            ).fit(X)"
   ]
  },
  {
   "cell_type": "code",
   "execution_count": null,
   "metadata": {},
   "outputs": [],
   "source": [
    "G = stm.mapper2networkx(mapper)\n",
    "nx.draw_networkx(G, with_labels=False,\n",
    "                 node_color=[mapper.node_info_[name][\"colors\"][0] for name in G.nodes()])\n",
    "                 #node_size=[len(mapper.node_info_[name][\"indices\"]) for name in G.nodes()])"
   ]
  }
 ],
 "metadata": {
  "kernelspec": {
   "display_name": "Python 3",
   "language": "python",
   "name": "python3"
  },
  "language_info": {
   "codemirror_mode": {
    "name": "ipython",
    "version": 3
   },
   "file_extension": ".py",
   "mimetype": "text/x-python",
   "name": "python",
   "nbconvert_exporter": "python",
   "pygments_lexer": "ipython3",
   "version": "3.6.9"
  },
  "toc": {
   "base_numbering": 1,
   "nav_menu": {},
   "number_sections": true,
   "sideBar": true,
   "skip_h1_title": false,
   "title_cell": "Table of Contents",
   "title_sidebar": "Contents",
   "toc_cell": false,
   "toc_position": {},
   "toc_section_display": true,
   "toc_window_display": false
  }
 },
 "nbformat": 4,
 "nbformat_minor": 2
}
