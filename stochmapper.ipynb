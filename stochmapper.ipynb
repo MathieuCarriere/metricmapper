{
 "cells": [
  {
   "cell_type": "code",
   "execution_count": null,
   "metadata": {},
   "outputs": [],
   "source": [
    "import numpy as np\n",
    "import matplotlib.pyplot as plt\n",
    "import sklearn_tda as sktda\n",
    "import statmapper as stm\n",
    "import networkx as nx\n",
    "\n",
    "from sklearn.metrics import pairwise_distances\n",
    "from mpl_toolkits.mplot3d import Axes3D\n",
    "from stochmapper import *"
   ]
  },
  {
   "cell_type": "markdown",
   "metadata": {},
   "source": [
    "# Annulus"
   ]
  },
  {
   "cell_type": "markdown",
   "metadata": {},
   "source": [
    "## Dataset"
   ]
  },
  {
   "cell_type": "markdown",
   "metadata": {},
   "source": [
    "### Underlying manifold"
   ]
  },
  {
   "cell_type": "code",
   "execution_count": null,
   "metadata": {},
   "outputs": [],
   "source": [
    "num_pts = 5000\n",
    "radius  = 1."
   ]
  },
  {
   "cell_type": "code",
   "execution_count": null,
   "metadata": {},
   "outputs": [],
   "source": [
    "theta   = np.random.uniform(low=0., high=2*np.pi, size=num_pts)\n",
    "xs, ys  = radius * np.cos(theta), radius * np.sin(theta)\n",
    "noise_x = np.random.normal(loc=xs, scale=.1, size=num_pts)\n",
    "noise_y = np.random.normal(loc=ys, scale=.1, size=num_pts)\n",
    "X       = np.hstack([np.reshape(xs+noise_x, [-1,1]), np.reshape(ys+noise_y, [-1,1])])"
   ]
  },
  {
   "cell_type": "code",
   "execution_count": null,
   "metadata": {},
   "outputs": [],
   "source": [
    "%matplotlib notebook\n",
    "plt.scatter(X[:,0], X[:,1], s=3)\n",
    "plt.show()"
   ]
  },
  {
   "cell_type": "code",
   "execution_count": null,
   "metadata": {},
   "outputs": [],
   "source": [
    "delta = sktda.estimate_scale(X, 100)\n",
    "print(delta)"
   ]
  },
  {
   "cell_type": "markdown",
   "metadata": {},
   "source": [
    "### Probability distributions"
   ]
  },
  {
   "cell_type": "markdown",
   "metadata": {},
   "source": [
    "#### Ideal case"
   ]
  },
  {
   "cell_type": "code",
   "execution_count": null,
   "metadata": {},
   "outputs": [],
   "source": [
    "distributions = []"
   ]
  },
  {
   "cell_type": "code",
   "execution_count": null,
   "metadata": {},
   "outputs": [],
   "source": [
    "num_samples = 10000"
   ]
  },
  {
   "cell_type": "markdown",
   "metadata": {},
   "source": [
    "Gaussian distribution."
   ]
  },
  {
   "cell_type": "code",
   "execution_count": null,
   "metadata": {},
   "outputs": [],
   "source": [
    "for i in range(num_pts):\n",
    "    distributions.append(np.random.normal(loc=X[i,0], scale=10, size=num_samples))"
   ]
  },
  {
   "cell_type": "markdown",
   "metadata": {},
   "source": [
    "Bimodal distribution."
   ]
  },
  {
   "cell_type": "code",
   "execution_count": null,
   "metadata": {},
   "outputs": [],
   "source": [
    "for i in range(num_pts):\n",
    "    distrib = []\n",
    "    d1 = np.random.normal(loc=X[i,0],  scale=0.1, size=num_samples)\n",
    "    d2 = np.random.normal(loc=-X[i,0], scale=0.1, size=num_samples)\n",
    "    distrib = np.concatenate([d1[:int(num_samples/2)], d2[:int(num_samples/2)]])\n",
    "    np.random.shuffle(distrib)\n",
    "    distributions.append(distrib)"
   ]
  },
  {
   "cell_type": "markdown",
   "metadata": {},
   "source": [
    "#### Filter values of nearest neighbors"
   ]
  },
  {
   "cell_type": "code",
   "execution_count": null,
   "metadata": {},
   "outputs": [],
   "source": [
    "real = []\n",
    "for i in range(num_pts):\n",
    "    real.append(np.random.normal(loc=X[i,0], scale=10, size=1)[0])"
   ]
  },
  {
   "cell_type": "code",
   "execution_count": null,
   "metadata": {},
   "outputs": [],
   "source": [
    "real = []\n",
    "for i in range(num_pts):\n",
    "    real.append(np.random.normal(loc=0, scale=X[i,0]-np.min(X[i,:]), size=1)[0])"
   ]
  },
  {
   "cell_type": "code",
   "execution_count": null,
   "metadata": {},
   "outputs": [],
   "source": [
    "real = []\n",
    "for i in range(num_pts):\n",
    "    idx = np.random.choice(2, 1)\n",
    "    if idx == 0:\n",
    "        real.append(np.random.normal(loc=10*X[i,0], scale=10, size=1)[0])\n",
    "    else:\n",
    "        real.append(np.random.normal(loc=-10*X[i,0], scale=10, size=1)[0])"
   ]
  },
  {
   "cell_type": "code",
   "execution_count": null,
   "metadata": {},
   "outputs": [],
   "source": [
    "distributions = infer_distributions_from_neighborhood(real, X, 3*delta, \"point cloud\")"
   ]
  },
  {
   "cell_type": "markdown",
   "metadata": {},
   "source": [
    "#### Distances between distributions"
   ]
  },
  {
   "cell_type": "code",
   "execution_count": null,
   "metadata": {},
   "outputs": [],
   "source": [
    "H, C = Histogram(num_bins=100).fit_transform(distributions)"
   ]
  },
  {
   "cell_type": "code",
   "execution_count": null,
   "metadata": {},
   "outputs": [],
   "source": [
    "dists = EuclideanDistance().compute_matrix(H)\n",
    "print(np.median(dists))"
   ]
  },
  {
   "cell_type": "code",
   "execution_count": null,
   "metadata": {},
   "outputs": [],
   "source": [
    "dists = Wasserstein1D(C=C, p=1).compute_matrix(H)\n",
    "print(np.median(dists))"
   ]
  },
  {
   "cell_type": "code",
   "execution_count": null,
   "metadata": {},
   "outputs": [],
   "source": [
    "dists = KullbackLeiblerDivergence().compute_matrix(H)\n",
    "print(np.median(dists))"
   ]
  },
  {
   "cell_type": "markdown",
   "metadata": {},
   "source": [
    "#### Estimate Lipschitz coefficient"
   ]
  },
  {
   "cell_type": "code",
   "execution_count": null,
   "metadata": {},
   "outputs": [],
   "source": [
    "D = euclidean_distances(X)\n",
    "coeff = np.where((D <= delta) & (D > 0), dists/D, np.zeros(D.shape)).max()\n",
    "print(coeff)"
   ]
  },
  {
   "cell_type": "markdown",
   "metadata": {},
   "source": [
    "### Visualization"
   ]
  },
  {
   "cell_type": "code",
   "execution_count": null,
   "metadata": {},
   "outputs": [],
   "source": [
    "plt.figure()\n",
    "plt.hist(np.array(distributions[2000]), bins=100)\n",
    "plt.show()"
   ]
  },
  {
   "cell_type": "markdown",
   "metadata": {},
   "source": [
    "Visualize a given realization."
   ]
  },
  {
   "cell_type": "code",
   "execution_count": null,
   "metadata": {},
   "outputs": [],
   "source": [
    "z = [distributions[i][0] for i in range(num_pts)]"
   ]
  },
  {
   "cell_type": "code",
   "execution_count": null,
   "metadata": {},
   "outputs": [],
   "source": [
    "z = [np.mean(distrib) for distrib in distributions]"
   ]
  },
  {
   "cell_type": "code",
   "execution_count": null,
   "metadata": {},
   "outputs": [],
   "source": [
    "%matplotlib notebook\n",
    "fig = plt.figure()\n",
    "ax  = fig.add_subplot(111, projection=\"3d\")\n",
    "ax.scatter(X[:,0], X[:,1], z, s=1.)\n",
    "plt.show()"
   ]
  },
  {
   "cell_type": "markdown",
   "metadata": {},
   "source": [
    "## Single realization Mapper"
   ]
  },
  {
   "cell_type": "code",
   "execution_count": null,
   "metadata": {},
   "outputs": [],
   "source": [
    "mapper = sktda.MapperComplex(\n",
    "    #filters=np.reshape(np.array(real), [-1,1]), \n",
    "    filters=np.reshape(np.array([distributions[i][0] for i in range(len(distributions))]), [-1,1]),\n",
    "    filter_bnds=np.array([[np.nan, np.nan]]),\n",
    "    resolutions=np.array([10]), gains=np.array([.3]), colors=X[:,0:1],\n",
    "    clustering=AgglomerativeClustering(n_clusters=None, linkage=\"single\", distance_threshold=1.)\n",
    "                            ).fit(X)"
   ]
  },
  {
   "cell_type": "code",
   "execution_count": null,
   "metadata": {},
   "outputs": [],
   "source": [
    "G = stm.mapper2networkx(mapper)\n",
    "nx.draw_networkx(G, with_labels=False,\n",
    "                 node_color=[mapper.node_info_[name][\"colors\"][0] for name in G.nodes()])\n",
    "                 #node_size=[len(mapper.node_info_[name][\"indices\"]) for name in G.nodes()])"
   ]
  },
  {
   "cell_type": "markdown",
   "metadata": {},
   "source": [
    "## Mean stochastic Mapper "
   ]
  },
  {
   "cell_type": "code",
   "execution_count": null,
   "metadata": {},
   "outputs": [],
   "source": [
    "mapper = MeanStochasticMapperComplex(\n",
    "    #filters=real, infer_distributions=True, threshold=1.,\n",
    "    filters=distributions, infer_distributions=False,\n",
    "    resolution=10, gain=.3, colors=X[:,0:1],\n",
    "    clustering=AgglomerativeClustering(n_clusters=None, linkage=\"single\", distance_threshold=delta)\n",
    "                            ).fit(X)"
   ]
  },
  {
   "cell_type": "code",
   "execution_count": null,
   "metadata": {},
   "outputs": [],
   "source": [
    "G = stm.mapper2networkx(mapper)\n",
    "nx.draw_networkx(G, with_labels=False,\n",
    "                 node_color=[mapper.node_info_[name][\"colors\"][0] for name in G.nodes()])\n",
    "                 #node_size=[len(mapper.node_info_[name][\"indices\"]) for name in G.nodes()])"
   ]
  },
  {
   "cell_type": "markdown",
   "metadata": {},
   "source": [
    "## Stochastic Mapper"
   ]
  },
  {
   "cell_type": "code",
   "execution_count": null,
   "metadata": {},
   "outputs": [],
   "source": [
    "mapper = StochasticMapperComplex(\n",
    "    #filters=real,\n",
    "    #codomain=\"distributions\", infer_distributions=True, threshold=1., num_bins=100,\n",
    "    filters=distributions,\n",
    "    codomain=\"distributions\", infer_distributions=False, num_bins=100,\n",
    "    #cover=VoronoiCover(n_patches=10, threshold=delta/3), \n",
    "    #distance=EuclideanDistance(), #distance=Wasserstein1D(p=1),\n",
    "    #cover=EuclideanKMeansCover(n_patches=10, threshold=delta/10),\n",
    "    cover=kPDTMCover(n_patches=10, h=3, threshold=delta/10, tol=1e-5),\n",
    "    #cover=WassersteinKMeansCover(n_patches=10, epsilon=1e-4, p=1, tol=1e-8, threshold=.01),\n",
    "    correct_Rips=False, delta=delta, n_subdivisions=1,\n",
    "    colors=np.reshape(X[:,0], [-1,1]),\n",
    "    clustering=AgglomerativeClustering(n_clusters=None, linkage=\"single\", distance_threshold=delta)\n",
    "                            ).fit(X)"
   ]
  },
  {
   "cell_type": "code",
   "execution_count": null,
   "metadata": {},
   "outputs": [],
   "source": [
    "G = stm.mapper2networkx(mapper)\n",
    "nx.draw_networkx(G, with_labels=False,\n",
    "                 node_color=[mapper.node_info_[name][\"colors\"][0] for name in G.nodes()])\n",
    "                 #node_size=[len(mapper.node_info_[name][\"indices\"]) for name in G.nodes()])"
   ]
  },
  {
   "cell_type": "code",
   "execution_count": null,
   "metadata": {},
   "outputs": [],
   "source": []
  }
 ],
 "metadata": {
  "kernelspec": {
   "display_name": "Python 3",
   "language": "python",
   "name": "python3"
  },
  "language_info": {
   "codemirror_mode": {
    "name": "ipython",
    "version": 3
   },
   "file_extension": ".py",
   "mimetype": "text/x-python",
   "name": "python",
   "nbconvert_exporter": "python",
   "pygments_lexer": "ipython3",
   "version": "3.6.9"
  },
  "toc": {
   "base_numbering": 1,
   "nav_menu": {},
   "number_sections": true,
   "sideBar": true,
   "skip_h1_title": false,
   "title_cell": "Table of Contents",
   "title_sidebar": "Contents",
   "toc_cell": false,
   "toc_position": {},
   "toc_section_display": true,
   "toc_window_display": false
  }
 },
 "nbformat": 4,
 "nbformat_minor": 2
}
